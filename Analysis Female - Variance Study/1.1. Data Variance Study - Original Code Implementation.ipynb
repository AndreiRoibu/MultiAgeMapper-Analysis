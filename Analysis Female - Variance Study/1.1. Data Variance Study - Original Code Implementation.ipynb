version https://git-lfs.github.com/spec/v1
oid sha256:7464f1a4f4710c1810bd167e0edc518a5cabcc32f886ef6046b0fc2d9f076929
size 1935227
