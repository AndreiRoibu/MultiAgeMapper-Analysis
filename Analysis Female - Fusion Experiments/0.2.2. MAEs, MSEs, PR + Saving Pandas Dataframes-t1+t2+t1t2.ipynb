version https://git-lfs.github.com/spec/v1
oid sha256:e38a084dd525286e222b9b056751a17c5543f46434f90c78a1f3d87fdf3e565a
size 694108
